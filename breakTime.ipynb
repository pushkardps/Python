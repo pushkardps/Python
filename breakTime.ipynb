{
 "cells": [
  {
   "cell_type": "code",
   "execution_count": 3,
   "metadata": {},
   "outputs": [
    {
     "name": "stdout",
     "output_type": "stream",
     "text": [
      "Current working directory is C:\\Users\\pushk\\Desktop\\pb\\Data Science\\Udacity\\Intro to Python\n"
     ]
    }
   ],
   "source": [
    "# Break Timer program\n",
    "import time\n",
    "import webbrowser\n",
    "import os\n",
    "\n",
    "break_count = 0\n",
    "break_limit = 3\n",
    "\n",
    "saved_path = os.getcwd()\n",
    "print(\"Current working directory is \"+saved_path)\n",
    "\n",
    "\n",
    "while  break_count < break_limit :\n",
    "\n",
    "    time.sleep(10)\n",
    "    webbrowser.open(\"https://www.youtube.com/watch?v=HMn3Fmcmf_U\")\n",
    "    break_count = break_count + 1\n"
   ]
  }
 ],
 "metadata": {
  "kernelspec": {
   "display_name": "Python 2",
   "language": "python",
   "name": "python2"
  },
  "language_info": {
   "codemirror_mode": {
    "name": "ipython",
    "version": 2
   },
   "file_extension": ".py",
   "mimetype": "text/x-python",
   "name": "python",
   "nbconvert_exporter": "python",
   "pygments_lexer": "ipython2",
   "version": "2.7.13"
  }
 },
 "nbformat": 4,
 "nbformat_minor": 2
}
